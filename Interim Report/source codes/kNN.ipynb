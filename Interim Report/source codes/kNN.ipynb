{
 "cells": [
  {
   "cell_type": "code",
   "execution_count": 1,
   "metadata": {},
   "outputs": [],
   "source": [
    "import pandas as pd\n",
    "from math import *\n",
    "import numpy as np\n",
    "import matplotlib.pyplot as plt\n",
    "from sklearn.metrics import ConfusionMatrixDisplay\n",
    "from sklearn.metrics import confusion_matrix\n",
    "from sklearn.metrics import plot_confusion_matrix\n",
    "from random import sample\n",
    "import utils\n",
    "from utils import shuffling\n",
    "from utils import normalization\n",
    "from utils import traintestsplit\n",
    "from utils import feature_extract\n",
    "import os"
   ]
  },
  {
   "cell_type": "code",
   "execution_count": 2,
   "metadata": {},
   "outputs": [],
   "source": [
    "epilepsy_data = pd.read_csv(\"bonn_epilepsy.csv\", sep =\",\")\n",
    "\n",
    "epilepsy_data.drop(\"Unnamed\",axis=1,inplace=True)\n",
    "epilepsy_data.head()\n",
    "epilepsy_data.y = epilepsy_data.y==1\n",
    "epilepsy_data.y = epilepsy_data.y.astype(int)\n",
    "\n",
    "epilepsy_data= epilepsy_data[epilepsy_data.isnull().any(axis=1)==False]\n",
    "\n",
    "label = epilepsy_data[\"y\"].astype(\"category\").to_numpy()\n",
    "label2 = epilepsy_data[\"y\"]\n",
    "epilepsy_data.drop(\"y\",axis=1,inplace=True)"
   ]
  },
  {
   "cell_type": "code",
   "execution_count": 3,
   "metadata": {},
   "outputs": [],
   "source": [
    "epilepsy_data= feature_extract(epilepsy_data)\n",
    "epilepsy_data= epilepsy_data.iloc[:,-8:]"
   ]
  },
  {
   "cell_type": "code",
   "execution_count": 4,
   "metadata": {},
   "outputs": [],
   "source": [
    "#normalize the data\n",
    "normalized = normalization(epilepsy_data, label2)\n",
    "\n",
    "#shuffle the data\n",
    "shuffled = shuffling(normalized)\n",
    "\n",
    "#split the data into train and test sets\n",
    "X_train, X_test, y_train, y_test = traintestsplit(shuffled,0.25)"
   ]
  },
  {
   "cell_type": "code",
   "execution_count": 5,
   "metadata": {
    "executionInfo": {
     "elapsed": 302,
     "status": "ok",
     "timestamp": 1668522070968,
     "user": {
      "displayName": "Emirhan Koç",
      "userId": "12473364778653427989"
     },
     "user_tz": -180
    },
    "id": "duxkqeChrb-E"
   },
   "outputs": [],
   "source": [
    "np_train_data= X_train\n",
    "np_test_data= X_test\n",
    "\n",
    "np_label_train=y_train\n",
    "np_label_test=y_test\n"
   ]
  },
  {
   "cell_type": "code",
   "execution_count": 6,
   "metadata": {
    "executionInfo": {
     "elapsed": 303,
     "status": "ok",
     "timestamp": 1668522435243,
     "user": {
      "displayName": "Emirhan Koç",
      "userId": "12473364778653427989"
     },
     "user_tz": -180
    },
    "id": "o0JqXMUxO8b_"
   },
   "outputs": [],
   "source": [
    "class kNearestNeighbor:\n",
    "\n",
    "  def __init__(self,train_data, train_label, k=3, dmetric=\"euclidian\"):\n",
    "\n",
    "    self.train_data= train_data\n",
    "    self.train_label= train_label\n",
    "    self.k=k\n",
    "    self.dmetric=dmetric\n",
    "\n",
    "        \n",
    "  def distance_metric(self,vector1,vector2):\n",
    "    \n",
    "    if self.dmetric==\"manhattan\":\n",
    "      return np.abs(vector1-vector2).sum(axis=1)\n",
    "    if self.dmetric==\"euclidian\":\n",
    "      return np.square(vector1-vector2).sum(axis=1)\n",
    "  \n",
    "  def get_neighbors(self, test_data):\n",
    "    \n",
    "    distances= self.distance_metric(self.train_data,test_data)\n",
    "    indices= np.argsort(distances)[:self.k]\n",
    "    return indices\n",
    "  \n",
    "  def predict(self,test_data, test_label):\n",
    "    y_predict= np.zeros(test_label.shape)\n",
    "   \n",
    "    for tt in range(0,test_data.shape[0]):\n",
    "     \n",
    "      indx= self.get_neighbors(test_data[tt])\n",
    "      y_indices= self.train_label[indx]\n",
    "      y_pred=np.bincount(y_indices).argmax()\n",
    "      y_predict[tt]=y_pred\n",
    "\n",
    "    return y_predict\n",
    "  \n",
    "                                                    "
   ]
  },
  {
   "cell_type": "code",
   "execution_count": 7,
   "metadata": {
    "executionInfo": {
     "elapsed": 421,
     "status": "ok",
     "timestamp": 1668522991654,
     "user": {
      "displayName": "Emirhan Koç",
      "userId": "12473364778653427989"
     },
     "user_tz": -180
    },
    "id": "8D0xUHuzsYWw"
   },
   "outputs": [],
   "source": [
    "def test_accuracy(test_label,predicted_label):\n",
    "  \n",
    "  print(\"Accuracy is\", round(np.mean(test_label==predicted_label)*100,2))\n",
    "  return round(100*np.mean(test_label==predicted_label),2)\n",
    "\n",
    "def class_accuracy(model,data,label):\n",
    "   class_labels = np.unique(label,return_counts=False)\n",
    "   class_acc_list = []\n",
    "   for cl in class_labels: \n",
    "        print(\"Class\", cl)\n",
    "        class_pred= model.predict(data[label==cl],label[label==cl])\n",
    "        class_acc= test_accuracy(label[label==cl],class_pred)\n",
    "        #print(\"Test accuracy for class \", cl, \"is : \", class_acc )\n",
    "        class_acc_list.append(class_acc)\n",
    "\n",
    "def confusion_matrix_plot(true_label,predictions):\n",
    "    \n",
    "\n",
    "    class_labels = np.unique(true_label,return_counts=False)\n",
    "    \n",
    "    cm= confusion_matrix(true_label,predictions) \n",
    "    cp=ConfusionMatrixDisplay(cm,display_labels=class_labels)\n",
    "    cp.plot()\n",
    "    plt.title(\"Confusion Matrix\")\n",
    "    plt.show()"
   ]
  },
  {
   "cell_type": "code",
   "execution_count": 8,
   "metadata": {
    "id": "srNrg20ksW0P"
   },
   "outputs": [],
   "source": [
    "def KFoldCrossValidation(data_train,label_train,model=\"knn\", Kfold=5, k=3, metric=\"euclidian\"):\n",
    "    sample_count= data_train.shape[0]\n",
    "    fold_size = int(sample_count/Kfold)\n",
    "    accuracy_all = list()\n",
    "   \n",
    "    for ff in range(Kfold):\n",
    "        \n",
    "        test_data=data_train[ff*fold_size:(ff+1)*fold_size,:]\n",
    "        test_label= label_train[ff*fold_size:(ff+1)*fold_size]\n",
    "\n",
    "        train_data= np.append(data_train[:ff*fold_size,:],data_train[(ff+1)*fold_size:,:],axis=0)\n",
    "        train_label= np.append(label_train[:ff*fold_size],label_train[(ff+1)*fold_size:],axis=0)\n",
    "        model= kNearestNeighbor(train_data, train_label,k,metric)\n",
    "        preds = model.predict(test_data,test_label)\n",
    "        acc= np.mean(preds==test_label)\n",
    "        accuracy_all.append(acc)\n",
    "        print(\"Fold \",ff+1,\"is completed.\")\n",
    "    return sum(accuracy_all)/len(accuracy_all)*100"
   ]
  },
  {
   "cell_type": "code",
   "execution_count": 9,
   "metadata": {},
   "outputs": [
    {
     "name": "stdout",
     "output_type": "stream",
     "text": [
      "Fold  1 is completed.\n",
      "Fold  2 is completed.\n",
      "Fold  3 is completed.\n",
      "Fold  4 is completed.\n",
      "Fold  5 is completed.\n",
      "K-Nearest Neighbor: 3  Metric:  euclidian :  95.74\n",
      "Fold  1 is completed.\n",
      "Fold  2 is completed.\n",
      "Fold  3 is completed.\n",
      "Fold  4 is completed.\n",
      "Fold  5 is completed.\n",
      "K-Nearest Neighbor: 3  Metric:  manhattan :  95.74\n",
      "Fold  1 is completed.\n",
      "Fold  2 is completed.\n",
      "Fold  3 is completed.\n",
      "Fold  4 is completed.\n",
      "Fold  5 is completed.\n",
      "K-Nearest Neighbor: 5  Metric:  euclidian :  96.17\n",
      "Fold  1 is completed.\n",
      "Fold  2 is completed.\n",
      "Fold  3 is completed.\n",
      "Fold  4 is completed.\n",
      "Fold  5 is completed.\n",
      "K-Nearest Neighbor: 5  Metric:  manhattan :  96.13\n",
      "Fold  1 is completed.\n",
      "Fold  2 is completed.\n",
      "Fold  3 is completed.\n",
      "Fold  4 is completed.\n",
      "Fold  5 is completed.\n",
      "K-Nearest Neighbor: 7  Metric:  euclidian :  96.3\n",
      "Fold  1 is completed.\n",
      "Fold  2 is completed.\n",
      "Fold  3 is completed.\n",
      "Fold  4 is completed.\n",
      "Fold  5 is completed.\n",
      "K-Nearest Neighbor: 7  Metric:  manhattan :  96.35\n",
      "Fold  1 is completed.\n",
      "Fold  2 is completed.\n",
      "Fold  3 is completed.\n",
      "Fold  4 is completed.\n",
      "Fold  5 is completed.\n",
      "K-Nearest Neighbor: 11  Metric:  euclidian :  96.41\n",
      "Fold  1 is completed.\n",
      "Fold  2 is completed.\n",
      "Fold  3 is completed.\n",
      "Fold  4 is completed.\n",
      "Fold  5 is completed.\n",
      "K-Nearest Neighbor: 11  Metric:  manhattan :  96.38\n",
      "Fold  1 is completed.\n",
      "Fold  2 is completed.\n",
      "Fold  3 is completed.\n",
      "Fold  4 is completed.\n",
      "Fold  5 is completed.\n",
      "K-Nearest Neighbor: 15  Metric:  euclidian :  96.42\n",
      "Fold  1 is completed.\n",
      "Fold  2 is completed.\n",
      "Fold  3 is completed.\n",
      "Fold  4 is completed.\n",
      "Fold  5 is completed.\n",
      "K-Nearest Neighbor: 15  Metric:  manhattan :  96.45\n",
      "Total time for  5 -fold is:  47.157315731048584 seconds.\n"
     ]
    }
   ],
   "source": [
    "# K-fold cross validation with grid-search\n",
    "grid_search = [[3,5,7,11,15],[\"euclidian\",\"manhattan\"]]\n",
    "accuracy_grid=np.zeros((len(grid_search[0]),len(grid_search[1])))\n",
    "K_fold=5\n",
    "import time\n",
    "b= time.time()\n",
    "for i,k in enumerate(grid_search[0]):\n",
    "    for j,m in enumerate(grid_search[1]):\n",
    "        acc=KFoldCrossValidation(X_train,y_train,Kfold=K_fold,k=k,metric=m)\n",
    "        print(\"K-Nearest Neighbor:\", k, \" Metric: \", m, \": \",round(acc,2))\n",
    "        accuracy_grid[i][j]=round(acc,2)\n",
    "e= time.time()\n",
    "print(\"Total time for \",K_fold, \"-fold is: \", e-b, \"seconds.\")\n",
    "def organize_results(grid_search,accuracy_grid):\n",
    "    \n",
    "    df=pd.DataFrame(accuracy_grid)\n",
    "    df.columns = grid_search[1]\n",
    "    df.set_index(pd.Index(grid_search[0]),inplace=True)\n",
    "    df.index.name=\"k\"\n",
    "    return df\n",
    "\n"
   ]
  },
  {
   "cell_type": "code",
   "execution_count": 10,
   "metadata": {},
   "outputs": [],
   "source": [
    "# Print the model results\n",
    "\n",
    "accuracy_table= organize_results(grid_search,accuracy_grid)\n",
    "import dataframe_image as dfi\n",
    "dfi.export(accuracy_table, \"knn_girdsearch.png\")"
   ]
  },
  {
   "cell_type": "code",
   "execution_count": 11,
   "metadata": {},
   "outputs": [
    {
     "name": "stdout",
     "output_type": "stream",
     "text": [
      "--------------- TOTAL ACCURACY -------------------\n",
      "Accuracy is 96.24\n",
      "********* CLASS BASED ACCURACY********************\n",
      "Class 0\n",
      "Accuracy is 97.33\n",
      "Class 1\n",
      "Accuracy is 92.06\n"
     ]
    },
    {
     "data": {
      "image/png": "[encoded data removed]",
      "text/plain": [
       "<Figure size 432x288 with 2 Axes>"
      ]
     },
     "metadata": {
      "needs_background": "light"
     },
     "output_type": "display_data"
    }
   ],
   "source": [
    "# Automatically select the best model\n",
    "\n",
    "from numpy import unravel_index\n",
    "best_index=unravel_index(accuracy_grid.argmax(),  accuracy_grid.shape)\n",
    "knn_best=  kNearestNeighbor(np_train_data,np_label_train, grid_search[0][best_index[0]],grid_search[1][best_index[1]])\n",
    "y_pred=knn_best.predict(np_test_data,np_label_test)\n",
    "print(\"--------------- TOTAL ACCURACY -------------------\")\n",
    "acc= test_accuracy(np_label_test,y_pred)\n",
    "print(\"********* CLASS BASED ACCURACY********************\")\n",
    "class_accuracy(knn_best,np_test_data,np_label_test)\n",
    "confusion_matrix_plot(np_label_test,y_pred)"
   ]
  },
  {
   "cell_type": "code",
   "execution_count": null,
   "metadata": {},
   "outputs": [],
   "source": []
  }
 ],
 "metadata": {
  "colab": {
   "authorship_tag": "ABX9TyORCfEi8+CwUbZNTIIYIzDl",
   "collapsed_sections": [],
   "mount_file_id": "1vpi4hg16sy-lgunK4FH8JcW2-lb62IsX",
   "provenance": []
  },
  "kernelspec": {
   "display_name": "Python 3",
   "language": "python",
   "name": "python3"
  },
  "language_info": {
   "codemirror_mode": {
    "name": "ipython",
    "version": 3
   },
   "file_extension": ".py",
   "mimetype": "text/x-python",
   "name": "python",
   "nbconvert_exporter": "python",
   "pygments_lexer": "ipython3",
   "version": "3.8.5"
  }
 },
 "nbformat": 4,
 "nbformat_minor": 1
}
