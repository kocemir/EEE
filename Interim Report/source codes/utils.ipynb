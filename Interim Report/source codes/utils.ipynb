{
 "cells": [
  {
   "cell_type": "markdown",
   "metadata": {},
   "source": [
    "# Helper Functions"
   ]
  },
  {
   "cell_type": "code",
   "execution_count": null,
   "metadata": {},
   "outputs": [],
   "source": [
    "import pandas as pd\n",
    "from math import *\n",
    "import numpy as np\n",
    "import matplotlib.pyplot as plt\n",
    "from sklearn.metrics import ConfusionMatrixDisplay\n",
    "from sklearn.metrics import confusion_matrix\n",
    "from sklearn.metrics import plot_confusion_matrix\n",
    "from random import sample\n",
    "import os"
   ]
  },
  {
   "cell_type": "code",
   "execution_count": null,
   "metadata": {},
   "outputs": [],
   "source": [
    "def shuffling(data): #works\n",
    "    shuf_data = data.sample(frac = 1).reset_index()\n",
    "    shuf_data.pop('index')\n",
    "    return shuf_data"
   ]
  },
  {
   "cell_type": "code",
   "execution_count": null,
   "metadata": {},
   "outputs": [],
   "source": [
    "def standardization(data, label): #works, very very slow\n",
    "    norm_data = data.copy()\n",
    "    row_num = norm_data.shape[0] \n",
    "    for column in norm_data.columns:\n",
    "        col_obj = norm_data[column]\n",
    "        mu_m = col_obj.sum()/row_num\n",
    "        std_dev = col_obj.std()\n",
    "        col_obj = (col_obj - mu_m)/std_dev\n",
    "        norm_data[column] = col_obj\n",
    "    norm_data[\"y\"] = label\n",
    "    return data"
   ]
  },
  {
   "cell_type": "code",
   "execution_count": null,
   "metadata": {},
   "outputs": [],
   "source": [
    "def z_norm(data, label): #works, very slow\n",
    "    data_z_norm = data.copy()\n",
    "    for column in data_z_norm.columns: #or don't put .columns, doesn't matter but it becomes slower\n",
    "        data_z_norm[column] = (data_z_norm[column] - data_z_norm[column].mean())/data_z_norm[column].std()\n",
    "    data_z_norm[\"y\"] = label\n",
    "    return data_z_norm "
   ]
  },
  {
   "cell_type": "code",
   "execution_count": null,
   "metadata": {},
   "outputs": [],
   "source": [
    "def normalization(data, label): #works, very fast\n",
    "    means = data.mean()\n",
    "    std_devs = data.std()\n",
    "    nor_data = (data - means)/std_devs\n",
    "    nor_data[\"y\"] = label\n",
    "    return nor_data"
   ]
  },
  {
   "cell_type": "code",
   "execution_count": null,
   "metadata": {},
   "outputs": [],
   "source": [
    "def traintestsplit(data,ratio): #works\n",
    "    row_num = data.shape[0] #row number\n",
    "    label = data[\"y\"].to_numpy()\n",
    "    data.pop(\"y\")\n",
    "    data_n = data.to_numpy()\n",
    "    if row_num%10 == 0 or row_num%100 == 0 or row_num%1000 == 0:\n",
    "        test_num = int(row_num*ratio)\n",
    "        X_test = data_n[0:test_num,:]\n",
    "        y_test = label[0:test_num]\n",
    "        X_train = data_n[test_num:,:]\n",
    "        y_train = label[test_num:]\n",
    "        return X_train, X_test, y_train, y_test\n",
    "    else:\n",
    "        test_num = int(floor(row_num*ratio))\n",
    "        X_test = data_n[0:test_num,:]\n",
    "        y_test = label[0:test_num]\n",
    "        X_train = data_n[test_num:,:]\n",
    "        y_train = label[test_num:]\n",
    "        return X_train, X_test, y_train, y_test"
   ]
  },
  {
   "cell_type": "code",
   "execution_count": null,
   "metadata": {},
   "outputs": [],
   "source": [
    "def feature_extract(data):\n",
    "    max_data = data.max(axis=1)\n",
    "    max_data_s= max_data**2\n",
    "    max_data_c= max_data**3\n",
    "    \n",
    "    min_data = data.min(axis=1)\n",
    "    min_data_s= min_data**2\n",
    "    min_data_c= max_data**3\n",
    "    \n",
    "    max_min_dif= max_data-min_data\n",
    "    max_min_dif_s= max_min_dif**2\n",
    "    \n",
    "    data[\"MAX\"] = max_data\n",
    "    data[\"MIN\"] = min_data\n",
    "    data[\"MAX2\"]= max_data_s\n",
    "    data[\"MIN2\"]= min_data_s\n",
    "    data[\"MAX3\"]= max_data_c\n",
    "    data[\"MIN3\"]= min_data_c\n",
    "    data[\"MxMnDif\"] =  max_min_dif\n",
    "    data[\"MxMnDif2\"] =  max_min_dif_s\n",
    "    \n",
    "    return data\n",
    "    "
   ]
  },
  {
   "cell_type": "code",
   "execution_count": 1,
   "metadata": {},
   "outputs": [],
   "source": [
    "def initializer(init_choice=\"normal\",shape=(1,1)):\n",
    "    \n",
    "    if init_choice== \"normal\":\n",
    "        return np.random.normal(0.1,0.01,shape)\n",
    "    elif init_choice== \"uniform\":\n",
    "        return np.random.uniform(-0.1,0.1,shape)\n",
    "    elif init_choice == \"he\":\n",
    "        return np.random.normal(0.1,0.01,shape)*np.sqrt(2/shape[1])\n",
    "    elif init_choice== \"xavier\":\n",
    "        return np.random.normal(0.1,0.01,shape)*np.sqrt(2/(shape[0]+shape[1]))\n",
    "    else:\n",
    "        raise ValueError(\"Initialization Error\")\n",
    "      "
   ]
  },
  {
   "cell_type": "code",
   "execution_count": null,
   "metadata": {},
   "outputs": [],
   "source": []
  }
 ],
 "metadata": {
  "kernelspec": {
   "display_name": "Python 3",
   "language": "python",
   "name": "python3"
  },
  "language_info": {
   "codemirror_mode": {
    "name": "ipython",
    "version": 3
   },
   "file_extension": ".py",
   "mimetype": "text/x-python",
   "name": "python",
   "nbconvert_exporter": "python",
   "pygments_lexer": "ipython3",
   "version": "3.8.5"
  }
 },
 "nbformat": 4,
 "nbformat_minor": 4
}
